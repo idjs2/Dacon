{
 "cells": [
  {
   "cell_type": "markdown",
   "id": "f2bb052b",
   "metadata": {},
   "source": [
    "## 데이터 불러오기"
   ]
  },
  {
   "cell_type": "code",
   "execution_count": 32,
   "id": "3ff8617f",
   "metadata": {
    "scrolled": true
   },
   "outputs": [],
   "source": [
    "import pandas as pd\n",
    "import glob\n",
    "import os"
   ]
  },
  {
   "cell_type": "code",
   "execution_count": 33,
   "id": "852b2325",
   "metadata": {},
   "outputs": [
    {
     "name": "stdout",
     "output_type": "stream",
     "text": [
      "   DAT obs_time    내부온도관측치    내부습도관측치      co2관측치     ec관측치  시간당분무량  일간누적분무량  \\\n",
      "0    0    00:00  25.300000  81.835000  536.016667  1.407439     0.0      0.0   \n",
      "1    0    01:00  25.680357  81.264286  528.696429  1.409003   126.0    126.0   \n",
      "2    0    02:00  25.273333  81.471666  532.833333  1.406913     0.0    126.0   \n",
      "3    0    03:00  25.355000  81.398334  545.566667  1.406689   126.0    252.0   \n",
      "4    0    04:00  25.391667  81.483333  558.583333  1.411070     0.0    252.0   \n",
      "\n",
      "   시간당백색광량  일간누적백색광량  시간당적색광량  일간누적적색광량  시간당청색광량  일간누적청색광량  시간당총광량  일간누적총광량  \n",
      "0      0.0       0.0      0.0       0.0      0.0       0.0     0.0      0.0  \n",
      "1      0.0       0.0      0.0       0.0      0.0       0.0     0.0      0.0  \n",
      "2      0.0       0.0      0.0       0.0      0.0       0.0     0.0      0.0  \n",
      "3      0.0       0.0      0.0       0.0      0.0       0.0     0.0      0.0  \n",
      "4      0.0       0.0      0.0       0.0      0.0       0.0     0.0      0.0  \n"
     ]
    }
   ],
   "source": [
    "# X_train\n",
    "train_X_url = r'C:\\Dacon\\lettuce\\data\\train_input'\n",
    "train_X_list = glob.glob(os.path.join(train_X_url, 'CASE_*'))\n",
    "\n",
    "train_X = []\n",
    "\n",
    "for li in train_X_list :\n",
    "    df = pd.read_csv(li)\n",
    "    train_X.append(df)\n",
    "\n",
    "X_train = pd.concat(train_X, axis = 0, ignore_index = True)\n",
    "print(X_train.head(5))"
   ]
  },
  {
   "cell_type": "code",
   "execution_count": 37,
   "id": "5dd653e3",
   "metadata": {},
   "outputs": [
    {
     "name": "stdout",
     "output_type": "stream",
     "text": [
      "   DAT  predicted_weight_g\n",
      "0    1            0.167719\n",
      "1    2            0.181787\n",
      "2    3            0.265921\n",
      "3    4            0.423650\n",
      "4    5            0.475272\n"
     ]
    }
   ],
   "source": [
    "# y_train\n",
    "train_y_url = r'C:\\Dacon\\lettuce\\data\\train_target'\n",
    "train_y_list = glob.glob(os.path.join(train_y_url, 'CASE_*'))\n",
    "\n",
    "train_y = []\n",
    "\n",
    "for li in train_y_list :\n",
    "    df = pd.read_csv(li)\n",
    "    train_y.append(df)\n",
    "    \n",
    "y_train = pd.concat(train_y, axis = 0, ignore_index = True)\n",
    "print(y_train.head(5))"
   ]
  },
  {
   "cell_type": "code",
   "execution_count": 35,
   "id": "9f31d922",
   "metadata": {
    "scrolled": true
   },
   "outputs": [
    {
     "name": "stdout",
     "output_type": "stream",
     "text": [
      "   DAT obs_time    내부온도관측치    내부습도관측치      co2관측치     ec관측치  시간당분무량  일간누적분무량  \\\n",
      "0    0    00:00  26.260000  60.103333  471.883333  1.028971     0.0      0.0   \n",
      "1    0    01:00  26.511864  59.930509  472.500000  1.030566   769.0    769.0   \n",
      "2    0    02:00  25.890000  59.745000  472.850000  1.034274     0.0    769.0   \n",
      "3    0    03:00  25.871666  60.023334  476.666667  1.034595   769.0   1538.0   \n",
      "4    0    04:00  26.356667  60.150000  468.833333  1.035417     0.0   1538.0   \n",
      "\n",
      "   시간당백색광량  일간누적백색광량  시간당적색광량  일간누적적색광량  시간당청색광량  일간누적청색광량  시간당총광량  일간누적총광량  \n",
      "0      0.0       0.0      0.0       0.0      0.0       0.0     0.0      0.0  \n",
      "1      0.0       0.0      0.0       0.0      0.0       0.0     0.0      0.0  \n",
      "2      0.0       0.0      0.0       0.0      0.0       0.0     0.0      0.0  \n",
      "3      0.0       0.0      0.0       0.0      0.0       0.0     0.0      0.0  \n",
      "4      0.0       0.0      0.0       0.0      0.0       0.0     0.0      0.0  \n"
     ]
    }
   ],
   "source": [
    "# X_test\n",
    "test_X_url = r'C:\\Dacon\\lettuce\\data\\test_input'\n",
    "test_X_list = glob.glob(os.path.join(test_X_url, 'TEST_*'))\n",
    "\n",
    "test_X = []\n",
    "\n",
    "for li in test_X_list :\n",
    "    df = pd.read_csv(li)\n",
    "    test_X.append(df)\n",
    "\n",
    "X_test = pd.concat(test_X, axis = 0, ignore_index = True)\n",
    "print(X_test.head(5))"
   ]
  },
  {
   "cell_type": "markdown",
   "id": "1fba2bcd",
   "metadata": {},
   "source": [
    "## EDA"
   ]
  },
  {
   "cell_type": "code",
   "execution_count": 38,
   "id": "a3774207",
   "metadata": {},
   "outputs": [
    {
     "name": "stdout",
     "output_type": "stream",
     "text": [
      "<class 'pandas.core.frame.DataFrame'>\n",
      "RangeIndex: 18816 entries, 0 to 18815\n",
      "Data columns (total 16 columns):\n",
      " #   Column    Non-Null Count  Dtype  \n",
      "---  ------    --------------  -----  \n",
      " 0   DAT       18816 non-null  int64  \n",
      " 1   obs_time  18816 non-null  object \n",
      " 2   내부온도관측치   18816 non-null  float64\n",
      " 3   내부습도관측치   18816 non-null  float64\n",
      " 4   co2관측치    18816 non-null  float64\n",
      " 5   ec관측치     18816 non-null  float64\n",
      " 6   시간당분무량    18816 non-null  float64\n",
      " 7   일간누적분무량   18816 non-null  float64\n",
      " 8   시간당백색광량   18816 non-null  float64\n",
      " 9   일간누적백색광량  18816 non-null  float64\n",
      " 10  시간당적색광량   18816 non-null  float64\n",
      " 11  일간누적적색광량  18816 non-null  float64\n",
      " 12  시간당청색광량   18816 non-null  float64\n",
      " 13  일간누적청색광량  18816 non-null  float64\n",
      " 14  시간당총광량    18816 non-null  float64\n",
      " 15  일간누적총광량   18816 non-null  float64\n",
      "dtypes: float64(14), int64(1), object(1)\n",
      "memory usage: 2.3+ MB\n",
      "None\n",
      "<class 'pandas.core.frame.DataFrame'>\n",
      "RangeIndex: 3360 entries, 0 to 3359\n",
      "Data columns (total 16 columns):\n",
      " #   Column    Non-Null Count  Dtype  \n",
      "---  ------    --------------  -----  \n",
      " 0   DAT       3360 non-null   int64  \n",
      " 1   obs_time  3360 non-null   object \n",
      " 2   내부온도관측치   3360 non-null   float64\n",
      " 3   내부습도관측치   3360 non-null   float64\n",
      " 4   co2관측치    3360 non-null   float64\n",
      " 5   ec관측치     3360 non-null   float64\n",
      " 6   시간당분무량    3360 non-null   float64\n",
      " 7   일간누적분무량   3360 non-null   float64\n",
      " 8   시간당백색광량   3360 non-null   float64\n",
      " 9   일간누적백색광량  3360 non-null   float64\n",
      " 10  시간당적색광량   3360 non-null   float64\n",
      " 11  일간누적적색광량  3360 non-null   float64\n",
      " 12  시간당청색광량   3360 non-null   float64\n",
      " 13  일간누적청색광량  3360 non-null   float64\n",
      " 14  시간당총광량    3360 non-null   float64\n",
      " 15  일간누적총광량   3360 non-null   float64\n",
      "dtypes: float64(14), int64(1), object(1)\n",
      "memory usage: 420.1+ KB\n",
      "None\n",
      "<class 'pandas.core.frame.DataFrame'>\n",
      "RangeIndex: 784 entries, 0 to 783\n",
      "Data columns (total 2 columns):\n",
      " #   Column              Non-Null Count  Dtype  \n",
      "---  ------              --------------  -----  \n",
      " 0   DAT                 784 non-null    int64  \n",
      " 1   predicted_weight_g  784 non-null    float64\n",
      "dtypes: float64(1), int64(1)\n",
      "memory usage: 12.4 KB\n",
      "None\n"
     ]
    }
   ],
   "source": [
    "print(X_train.info())\n",
    "print(X_test.info())\n",
    "print(y_train.info())"
   ]
  },
  {
   "cell_type": "code",
   "execution_count": 40,
   "id": "c59577f5",
   "metadata": {},
   "outputs": [
    {
     "name": "stdout",
     "output_type": "stream",
     "text": [
      "                DAT       내부온도관측치       내부습도관측치        co2관측치         ec관측치  \\\n",
      "count  18816.000000  18816.000000  18816.000000  18816.000000  18816.000000   \n",
      "mean      13.500000     26.027719     63.935090    498.860695      1.507566   \n",
      "std        8.077962      3.948988     11.657905    120.421248      1.042010   \n",
      "min        0.000000      0.000000      0.000000     60.400000      0.000000   \n",
      "25%        6.750000     23.971250     57.494583    420.245833      0.929581   \n",
      "50%       13.500000     26.291667     62.118333    473.983333      1.308517   \n",
      "75%       20.250000     28.106667     73.157166    551.105952      2.291322   \n",
      "max       27.000000     42.643334     93.350002   1714.850000      5.462324   \n",
      "\n",
      "             시간당분무량       일간누적분무량        시간당백색광량       일간누적백색광량       시간당적색광량  \\\n",
      "count  18816.000000  18816.000000   18816.000000   18816.000000  18816.000000   \n",
      "mean     523.627918   6365.916673    6315.562930   72910.240149   1571.862912   \n",
      "std      544.323281   6903.680044    8188.067575   86040.447105   2937.252667   \n",
      "min     -653.260000      0.000000 -138371.246100       0.000000  -8793.607200   \n",
      "25%        0.000000   1234.280000       0.000000       0.000000      0.000000   \n",
      "50%      252.000000   3360.485000       0.000000   23205.750000      0.000000   \n",
      "75%      769.000000   9990.570000   18236.625400  145422.700000   1494.698100   \n",
      "max     3144.130000  42855.230000   18564.600000  292014.969800   9928.800000   \n",
      "\n",
      "            일간누적적색광량       시간당청색광량       일간누적청색광량         시간당총광량  \\\n",
      "count   18816.000000  18816.000000   18816.000000   18816.000000   \n",
      "mean    18201.358998   1241.905981   14139.184959    9129.331824   \n",
      "std     34386.384982   2474.426437   27743.227265    9175.427411   \n",
      "min         0.000000 -18570.857500       0.000000 -165735.710800   \n",
      "25%         0.000000      0.000000       0.000000       0.000000   \n",
      "50%         0.000000      0.000000       0.000000    9242.350000   \n",
      "75%     17529.296400   1306.461000   18484.700000   18255.190000   \n",
      "max    200561.760000   9399.000000  190016.450000   37892.400000   \n",
      "\n",
      "             일간누적총광량  \n",
      "count   18816.000000  \n",
      "mean   105250.784106  \n",
      "std     97397.224913  \n",
      "min         0.000000  \n",
      "25%      7280.962850  \n",
      "50%     92172.360000  \n",
      "75%    177491.499450  \n",
      "max    559488.881000  \n",
      "              DAT      내부온도관측치      내부습도관측치       co2관측치        ec관측치  \\\n",
      "count  3360.00000  3360.000000  3360.000000  3360.000000  3360.000000   \n",
      "mean     13.50000    27.694497    57.159151   501.719084     0.655837   \n",
      "std       8.07895     3.239332     9.509331    97.263883     0.487598   \n",
      "min       0.00000    20.586667    26.941667   335.716667     0.000000   \n",
      "25%       6.75000    25.476250    54.042917   429.845833     0.000000   \n",
      "50%      13.50000    27.766954    57.913333   491.616667     0.952075   \n",
      "75%      20.25000    29.600417    61.090000   536.250000     1.033063   \n",
      "max      27.00000    42.263333    84.266667  1025.950000     1.408258   \n",
      "\n",
      "            시간당분무량       일간누적분무량       시간당백색광량       일간누적백색광량      시간당적색광량  \\\n",
      "count  3360.000000   3360.000000   3360.000000    3360.000000  3360.000000   \n",
      "mean    341.459119   4236.985280   7859.320647   93370.523096  1189.243197   \n",
      "std     428.149742   5433.308756   8187.108641   82415.755570  2865.318781   \n",
      "min       0.000000      0.000000      0.000000       0.000000     0.000000   \n",
      "25%       0.000000    749.570000      0.000000       0.000000     0.000000   \n",
      "50%     126.000000   2300.570000   4203.334850   85869.010250     0.000000   \n",
      "75%     769.000000   6568.957500  18255.190000  181526.979375     0.000000   \n",
      "max    2072.360000  39662.820000  18564.600000  219681.100000  9928.800000   \n",
      "\n",
      "            일간누적적색광량      시간당청색광량       일간누적청색광량        시간당총광량        일간누적총광량  \n",
      "count    3360.000000  3360.000000    3360.000000   3360.000000    3360.000000  \n",
      "mean    14562.461133  1024.627136   12603.450583  10073.190981  120536.434811  \n",
      "std     31375.857159  2697.966633   29644.010790  11710.422098  121128.164555  \n",
      "min         0.000000     0.000000       0.000000      0.000000       0.000000  \n",
      "25%         0.000000     0.000000       0.000000      0.000000       0.000000  \n",
      "50%         0.000000     0.000000       0.000000   4218.805350   96271.922150  \n",
      "75%     11570.775300     0.000000    7226.264500  18255.190000  199962.400700  \n",
      "max    117490.800000  9399.000000  111221.500000  37892.400000  448393.400000  \n",
      "              DAT  predicted_weight_g\n",
      "count  784.000000          784.000000\n",
      "mean    14.500000           34.919681\n",
      "std      8.082904           41.605751\n",
      "min      1.000000            0.167719\n",
      "25%      7.750000            4.869563\n",
      "50%     14.500000           16.118144\n",
      "75%     21.250000           51.272294\n",
      "max     28.000000          164.150300\n"
     ]
    }
   ],
   "source": [
    "print(X_train.describe())\n",
    "print(X_test.describe())\n",
    "print(y_train.describe())"
   ]
  },
  {
   "cell_type": "code",
   "execution_count": null,
   "id": "814f7a16",
   "metadata": {},
   "outputs": [],
   "source": []
  }
 ],
 "metadata": {
  "kernelspec": {
   "display_name": "Python 3 (ipykernel)",
   "language": "python",
   "name": "python3"
  },
  "language_info": {
   "codemirror_mode": {
    "name": "ipython",
    "version": 3
   },
   "file_extension": ".py",
   "mimetype": "text/x-python",
   "name": "python",
   "nbconvert_exporter": "python",
   "pygments_lexer": "ipython3",
   "version": "3.7.15"
  }
 },
 "nbformat": 4,
 "nbformat_minor": 5
}
